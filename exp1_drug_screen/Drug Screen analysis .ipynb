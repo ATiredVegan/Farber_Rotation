{
 "cells": [
  {
   "cell_type": "code",
   "execution_count": 20,
   "metadata": {},
   "outputs": [],
   "source": [
    "import pandas as pd\n",
    "import seaborn as sns \n",
    "import numpy as np\n",
    "import matplotlib.pyplot as plt\n",
    "from statannot import add_stat_annotation"
   ]
  },
  {
   "cell_type": "code",
   "execution_count": 12,
   "metadata": {},
   "outputs": [
    {
     "data": {
      "text/html": [
       "<div>\n",
       "<style scoped>\n",
       "    .dataframe tbody tr th:only-of-type {\n",
       "        vertical-align: middle;\n",
       "    }\n",
       "\n",
       "    .dataframe tbody tr th {\n",
       "        vertical-align: top;\n",
       "    }\n",
       "\n",
       "    .dataframe thead th {\n",
       "        text-align: right;\n",
       "    }\n",
       "</style>\n",
       "<table border=\"1\" class=\"dataframe\">\n",
       "  <thead>\n",
       "    <tr style=\"text-align: right;\">\n",
       "      <th></th>\n",
       "      <th>1</th>\n",
       "      <th>2</th>\n",
       "      <th>3</th>\n",
       "      <th>4</th>\n",
       "      <th>5</th>\n",
       "      <th>6</th>\n",
       "      <th>7</th>\n",
       "      <th>8</th>\n",
       "    </tr>\n",
       "  </thead>\n",
       "  <tbody>\n",
       "    <tr>\n",
       "      <th>A</th>\n",
       "      <td>776838</td>\n",
       "      <td>584855</td>\n",
       "      <td>810810</td>\n",
       "      <td>789477</td>\n",
       "      <td>885430</td>\n",
       "      <td>728478</td>\n",
       "      <td>946640</td>\n",
       "      <td>853843</td>\n",
       "    </tr>\n",
       "    <tr>\n",
       "      <th>B</th>\n",
       "      <td>763648</td>\n",
       "      <td>545975</td>\n",
       "      <td>837141</td>\n",
       "      <td>707921</td>\n",
       "      <td>939925</td>\n",
       "      <td>791378</td>\n",
       "      <td>913753</td>\n",
       "      <td>880119</td>\n",
       "    </tr>\n",
       "    <tr>\n",
       "      <th>C</th>\n",
       "      <td>689245</td>\n",
       "      <td>686170</td>\n",
       "      <td>532761</td>\n",
       "      <td>805786</td>\n",
       "      <td>818000</td>\n",
       "      <td>960928</td>\n",
       "      <td>913966</td>\n",
       "      <td>818380</td>\n",
       "    </tr>\n",
       "    <tr>\n",
       "      <th>D</th>\n",
       "      <td>733822</td>\n",
       "      <td>565958</td>\n",
       "      <td>582210</td>\n",
       "      <td>789139</td>\n",
       "      <td>892626</td>\n",
       "      <td>838290</td>\n",
       "      <td>76</td>\n",
       "      <td>958182</td>\n",
       "    </tr>\n",
       "    <tr>\n",
       "      <th>E</th>\n",
       "      <td>765550</td>\n",
       "      <td>560429</td>\n",
       "      <td>793243</td>\n",
       "      <td>784937</td>\n",
       "      <td>794529</td>\n",
       "      <td>971620</td>\n",
       "      <td>920408</td>\n",
       "      <td>791762</td>\n",
       "    </tr>\n",
       "    <tr>\n",
       "      <th>F</th>\n",
       "      <td>615732</td>\n",
       "      <td>495450</td>\n",
       "      <td>647973</td>\n",
       "      <td>621003</td>\n",
       "      <td>764691</td>\n",
       "      <td>805425</td>\n",
       "      <td>776272</td>\n",
       "      <td>910657</td>\n",
       "    </tr>\n",
       "    <tr>\n",
       "      <th>G</th>\n",
       "      <td>659190</td>\n",
       "      <td>489882</td>\n",
       "      <td>804299</td>\n",
       "      <td>759527</td>\n",
       "      <td>839632</td>\n",
       "      <td>753486</td>\n",
       "      <td>832072</td>\n",
       "      <td>909939</td>\n",
       "    </tr>\n",
       "  </tbody>\n",
       "</table>\n",
       "</div>"
      ],
      "text/plain": [
       "        1       2       3       4       5       6       7       8\n",
       "A  776838  584855  810810  789477  885430  728478  946640  853843\n",
       "B  763648  545975  837141  707921  939925  791378  913753  880119\n",
       "C  689245  686170  532761  805786  818000  960928  913966  818380\n",
       "D  733822  565958  582210  789139  892626  838290      76  958182\n",
       "E  765550  560429  793243  784937  794529  971620  920408  791762\n",
       "F  615732  495450  647973  621003  764691  805425  776272  910657\n",
       "G  659190  489882  804299  759527  839632  753486  832072  909939"
      ]
     },
     "execution_count": 12,
     "metadata": {},
     "output_type": "execute_result"
    }
   ],
   "source": [
    "drug_data=pd.read_excel(\"nluc_6_10_21.xlsx\",index_col=0)\n",
    "drug_data=drug_data.drop('H')\n",
    "drug_data=drug_data.drop([9,10,11,12,\"Unnamed: 13\"],axis=1)\n",
    "drug_data"
   ]
  },
  {
   "cell_type": "code",
   "execution_count": 30,
   "metadata": {},
   "outputs": [
    {
     "name": "stdout",
     "output_type": "stream",
     "text": [
      "p-value annotation legend:\n",
      "ns: 5.00e-02 < p <= 1.00e+00\n",
      "*: 1.00e-02 < p <= 5.00e-02\n",
      "**: 1.00e-03 < p <= 1.00e-02\n",
      "***: 1.00e-04 < p <= 1.00e-03\n",
      "****: p <= 1.00e-04\n",
      "\n",
      "6_Vehicle v.s. 6_0.6 uM CID2011756: Mann-Whitney-Wilcoxon test two-sided with Bonferroni correction, P_val=1.000e+00 U_stat=2.700e+01\n",
      "3_Vehicle v.s. 3_0.6 uM CID2011756: Mann-Whitney-Wilcoxon test two-sided with Bonferroni correction, P_val=1.975e-02 U_stat=4.700e+01\n",
      "24_Vehicle v.s. 24_0.6 uM CID2011756: Mann-Whitney-Wilcoxon test two-sided with Bonferroni correction, P_val=1.000e+00 U_stat=2.900e+01\n",
      "48_Vehicle v.s. 48_0.6 uM CID2011756: Mann-Whitney-Wilcoxon test two-sided with Bonferroni correction, P_val=1.000e+00 U_stat=2.600e+01\n"
     ]
    },
    {
     "data": {
      "text/plain": [
       "(<matplotlib.axes._subplots.AxesSubplot at 0x7ff506a35da0>,\n",
       " [<statannot.StatResult.StatResult at 0x7ff505d5c710>,\n",
       "  <statannot.StatResult.StatResult at 0x7ff507641048>,\n",
       "  <statannot.StatResult.StatResult at 0x7ff505dec438>,\n",
       "  <statannot.StatResult.StatResult at 0x7ff5057c2588>])"
      ]
     },
     "execution_count": 30,
     "metadata": {},
     "output_type": "execute_result"
    },
    {
     "data": {
      "image/png": "[encoded data removed]",
      "text/plain": [
       "<Figure size 720x720 with 1 Axes>"
      ]
     },
     "metadata": {
      "needs_background": "light"
     },
     "output_type": "display_data"
    }
   ],
   "source": [
    "new_drug_np=[]\n",
    "treatment=[\"Vehicle\",\"0.6 uM CID2011756\"]\n",
    "timepoint=[3,6,24,48]\n",
    "\n",
    "for row in drug_data.itertuples():\n",
    "    i=0\n",
    "\n",
    "    for value in row[1:]:\n",
    "        if value<1000:\n",
    "            pass\n",
    "        else:\n",
    "            new_drug_np.append([value,timepoint[i//2],treatment[i%2]])   \n",
    "        i+=1        \n",
    "        \n",
    "new_drug_df=pd.DataFrame(new_drug_np)\n",
    "new_drug_df.columns=[\"RFUs\",\"Hours post Treatment\",\"Treatment\"]\n",
    "new_drug_df\n",
    "box_pairs=[\n",
    "    ((3,\"Vehicle\"),(3,\"0.6 uM CID2011756\")),\n",
    "    ((6,\"Vehicle\"),(6,\"0.6 uM CID2011756\")),\n",
    "    ((24,\"Vehicle\"),(24,\"0.6 uM CID2011756\")),\n",
    "    ((48,\"Vehicle\"),(48,\"0.6 uM CID2011756\"))\n",
    "]\n",
    "fig, ax = plt.subplots(figsize=(10,10))\n",
    "sns.boxplot(ax=ax,x=\"Hours post Treatment\", y=\"RFUs\",data=new_drug_df,hue=\"Treatment\", palette=\"deep\")\n",
    "sns.swarmplot(ax=ax,x=\"Hours post Treatment\",y=\"RFUs\",data=new_drug_df,hue=\"Treatment\",dodge=True,size=10,palette=\"deep\")\n",
    "add_stat_annotation(ax, data=new_drug_df, hue=\"Treatment\", x=\"Hours post Treatment\", y=\"RFUs\", text_format='star', loc='inside', verbose=2,test=\"Mann-Whitney\",box_pairs=box_pairs)"
   ]
  },
  {
   "cell_type": "code",
   "execution_count": null,
   "metadata": {},
   "outputs": [],
   "source": []
  }
 ],
 "metadata": {
  "kernelspec": {
   "display_name": "Python 3",
   "language": "python",
   "name": "python3"
  },
  "language_info": {
   "codemirror_mode": {
    "name": "ipython",
    "version": 3
   },
   "file_extension": ".py",
   "mimetype": "text/x-python",
   "name": "python",
   "nbconvert_exporter": "python",
   "pygments_lexer": "ipython3",
   "version": "3.6.10"
  }
 },
 "nbformat": 4,
 "nbformat_minor": 4
}
